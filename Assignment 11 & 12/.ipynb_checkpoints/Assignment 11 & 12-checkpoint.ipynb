{
 "cells": [
  {
   "cell_type": "markdown",
   "metadata": {},
   "source": [
    "# Assignment 11"
   ]
  },
  {
   "cell_type": "code",
   "execution_count": 1,
   "metadata": {},
   "outputs": [],
   "source": [
    "import pandas as pd\n",
    "import seaborn as sns"
   ]
  },
  {
   "cell_type": "code",
   "execution_count": 2,
   "metadata": {},
   "outputs": [
    {
     "data": {
      "text/html": [
       "<div>\n",
       "<style scoped>\n",
       "    .dataframe tbody tr th:only-of-type {\n",
       "        vertical-align: middle;\n",
       "    }\n",
       "\n",
       "    .dataframe tbody tr th {\n",
       "        vertical-align: top;\n",
       "    }\n",
       "\n",
       "    .dataframe thead th {\n",
       "        text-align: right;\n",
       "    }\n",
       "</style>\n",
       "<table border=\"1\" class=\"dataframe\">\n",
       "  <thead>\n",
       "    <tr style=\"text-align: right;\">\n",
       "      <th></th>\n",
       "      <th>species</th>\n",
       "      <th>island</th>\n",
       "      <th>bill_length_mm</th>\n",
       "      <th>bill_depth_mm</th>\n",
       "      <th>flipper_length_mm</th>\n",
       "      <th>body_mass_g</th>\n",
       "      <th>sex</th>\n",
       "    </tr>\n",
       "  </thead>\n",
       "  <tbody>\n",
       "    <tr>\n",
       "      <th>0</th>\n",
       "      <td>Adelie</td>\n",
       "      <td>Torgersen</td>\n",
       "      <td>39.1</td>\n",
       "      <td>18.7</td>\n",
       "      <td>181.0</td>\n",
       "      <td>3750.0</td>\n",
       "      <td>Male</td>\n",
       "    </tr>\n",
       "    <tr>\n",
       "      <th>1</th>\n",
       "      <td>Adelie</td>\n",
       "      <td>Torgersen</td>\n",
       "      <td>39.5</td>\n",
       "      <td>17.4</td>\n",
       "      <td>186.0</td>\n",
       "      <td>3800.0</td>\n",
       "      <td>Female</td>\n",
       "    </tr>\n",
       "    <tr>\n",
       "      <th>2</th>\n",
       "      <td>Adelie</td>\n",
       "      <td>Torgersen</td>\n",
       "      <td>40.3</td>\n",
       "      <td>18.0</td>\n",
       "      <td>195.0</td>\n",
       "      <td>3250.0</td>\n",
       "      <td>Female</td>\n",
       "    </tr>\n",
       "    <tr>\n",
       "      <th>3</th>\n",
       "      <td>Adelie</td>\n",
       "      <td>Torgersen</td>\n",
       "      <td>NaN</td>\n",
       "      <td>NaN</td>\n",
       "      <td>NaN</td>\n",
       "      <td>NaN</td>\n",
       "      <td>NaN</td>\n",
       "    </tr>\n",
       "    <tr>\n",
       "      <th>4</th>\n",
       "      <td>Adelie</td>\n",
       "      <td>Torgersen</td>\n",
       "      <td>36.7</td>\n",
       "      <td>19.3</td>\n",
       "      <td>193.0</td>\n",
       "      <td>3450.0</td>\n",
       "      <td>Female</td>\n",
       "    </tr>\n",
       "  </tbody>\n",
       "</table>\n",
       "</div>"
      ],
      "text/plain": [
       "  species     island  bill_length_mm  bill_depth_mm  flipper_length_mm  \\\n",
       "0  Adelie  Torgersen            39.1           18.7              181.0   \n",
       "1  Adelie  Torgersen            39.5           17.4              186.0   \n",
       "2  Adelie  Torgersen            40.3           18.0              195.0   \n",
       "3  Adelie  Torgersen             NaN            NaN                NaN   \n",
       "4  Adelie  Torgersen            36.7           19.3              193.0   \n",
       "\n",
       "   body_mass_g     sex  \n",
       "0       3750.0    Male  \n",
       "1       3800.0  Female  \n",
       "2       3250.0  Female  \n",
       "3          NaN     NaN  \n",
       "4       3450.0  Female  "
      ]
     },
     "execution_count": 2,
     "metadata": {},
     "output_type": "execute_result"
    }
   ],
   "source": [
    "penguins = sns.load_dataset(\"penguins\")\n",
    "penguins.head()"
   ]
  },
  {
   "cell_type": "code",
   "execution_count": 3,
   "metadata": {},
   "outputs": [
    {
     "data": {
      "text/html": [
       "<div>\n",
       "<style scoped>\n",
       "    .dataframe tbody tr th:only-of-type {\n",
       "        vertical-align: middle;\n",
       "    }\n",
       "\n",
       "    .dataframe tbody tr th {\n",
       "        vertical-align: top;\n",
       "    }\n",
       "\n",
       "    .dataframe thead th {\n",
       "        text-align: right;\n",
       "    }\n",
       "</style>\n",
       "<table border=\"1\" class=\"dataframe\">\n",
       "  <thead>\n",
       "    <tr style=\"text-align: right;\">\n",
       "      <th></th>\n",
       "      <th>bill_length_mm</th>\n",
       "      <th>bill_depth_mm</th>\n",
       "      <th>flipper_length_mm</th>\n",
       "      <th>body_mass_g</th>\n",
       "    </tr>\n",
       "    <tr>\n",
       "      <th>species</th>\n",
       "      <th></th>\n",
       "      <th></th>\n",
       "      <th></th>\n",
       "      <th></th>\n",
       "    </tr>\n",
       "  </thead>\n",
       "  <tbody>\n",
       "    <tr>\n",
       "      <th>Adelie</th>\n",
       "      <td>38.791391</td>\n",
       "      <td>18.346358</td>\n",
       "      <td>189.953642</td>\n",
       "      <td>3700.662252</td>\n",
       "    </tr>\n",
       "    <tr>\n",
       "      <th>Chinstrap</th>\n",
       "      <td>48.833824</td>\n",
       "      <td>18.420588</td>\n",
       "      <td>195.823529</td>\n",
       "      <td>3733.088235</td>\n",
       "    </tr>\n",
       "    <tr>\n",
       "      <th>Gentoo</th>\n",
       "      <td>47.504878</td>\n",
       "      <td>14.982114</td>\n",
       "      <td>217.186992</td>\n",
       "      <td>5076.016260</td>\n",
       "    </tr>\n",
       "  </tbody>\n",
       "</table>\n",
       "</div>"
      ],
      "text/plain": [
       "           bill_length_mm  bill_depth_mm  flipper_length_mm  body_mass_g\n",
       "species                                                                 \n",
       "Adelie          38.791391      18.346358         189.953642  3700.662252\n",
       "Chinstrap       48.833824      18.420588         195.823529  3733.088235\n",
       "Gentoo          47.504878      14.982114         217.186992  5076.016260"
      ]
     },
     "execution_count": 3,
     "metadata": {},
     "output_type": "execute_result"
    }
   ],
   "source": [
    "penguins.groupby(\"species\").mean()"
   ]
  },
  {
   "cell_type": "code",
   "execution_count": 4,
   "metadata": {},
   "outputs": [
    {
     "data": {
      "text/plain": [
       "<AxesSubplot:xlabel='species', ylabel='bill_length_mm'>"
      ]
     },
     "execution_count": 4,
     "metadata": {},
     "output_type": "execute_result"
    },
    {
     "data": {
      "image/png": "[encoded data removed]",
      "text/plain": [
       "<Figure size 432x288 with 1 Axes>"
      ]
     },
     "metadata": {
      "needs_background": "light"
     },
     "output_type": "display_data"
    }
   ],
   "source": [
    "sns.barplot(y=\"bill_length_mm\", x=\"species\", data=penguins)"
   ]
  },
  {
   "cell_type": "markdown",
   "metadata": {},
   "source": [
    "Adelie has the smallest bill_length. Gentoo and Chinstrap are around the same length but in average the measured chinstraps have a larger bill."
   ]
  },
  {
   "cell_type": "code",
   "execution_count": 5,
   "metadata": {},
   "outputs": [
    {
     "data": {
      "text/plain": [
       "<AxesSubplot:xlabel='species', ylabel='bill_depth_mm'>"
      ]
     },
     "execution_count": 5,
     "metadata": {},
     "output_type": "execute_result"
    },
    {
     "data": {
      "image/png": "[encoded data removed]",
      "text/plain": [
       "<Figure size 432x288 with 1 Axes>"
      ]
     },
     "metadata": {
      "needs_background": "light"
     },
     "output_type": "display_data"
    }
   ],
   "source": [
    "sns.barplot(y=\"bill_depth_mm\", x=\"species\", data=penguins)"
   ]
  },
  {
   "cell_type": "markdown",
   "metadata": {},
   "source": [
    "Gentoo has the smallest bill_depth while the others together have the largest."
   ]
  },
  {
   "cell_type": "code",
   "execution_count": 6,
   "metadata": {},
   "outputs": [
    {
     "data": {
      "text/plain": [
       "<AxesSubplot:xlabel='species', ylabel='flipper_length_mm'>"
      ]
     },
     "execution_count": 6,
     "metadata": {},
     "output_type": "execute_result"
    },
    {
     "data": {
      "image/png": "[encoded data removed]",
      "text/plain": [
       "<Figure size 432x288 with 1 Axes>"
      ]
     },
     "metadata": {
      "needs_background": "light"
     },
     "output_type": "display_data"
    }
   ],
   "source": [
    "sns.barplot(y=\"flipper_length_mm\", x=\"species\", data=penguins)"
   ]
  },
  {
   "cell_type": "markdown",
   "metadata": {},
   "source": [
    "Gentoo has the largest flipper, after that the chinstrap and after that the Adelie."
   ]
  },
  {
   "cell_type": "code",
   "execution_count": 7,
   "metadata": {},
   "outputs": [
    {
     "data": {
      "text/plain": [
       "<AxesSubplot:xlabel='species', ylabel='body_mass_g'>"
      ]
     },
     "execution_count": 7,
     "metadata": {},
     "output_type": "execute_result"
    },
    {
     "data": {
      "image/png": "[encoded data removed]",
      "text/plain": [
       "<Figure size 432x288 with 1 Axes>"
      ]
     },
     "metadata": {
      "needs_background": "light"
     },
     "output_type": "display_data"
    }
   ],
   "source": [
    "sns.barplot(y=\"body_mass_g\", x=\"species\", data=penguins)"
   ]
  },
  {
   "cell_type": "markdown",
   "metadata": {},
   "source": [
    "The Gentoo species seems to be way heavier than the other species who average out to the same mass. This gives me the image combined with the flipper length that the gentoo species is a taller penguin than the other species. Without having seen an image."
   ]
  },
  {
   "cell_type": "markdown",
   "metadata": {},
   "source": [
    "# Assignment 12"
   ]
  },
  {
   "cell_type": "code",
   "execution_count": 8,
   "metadata": {},
   "outputs": [
    {
     "data": {
      "text/html": [
       "<div>\n",
       "<style scoped>\n",
       "    .dataframe tbody tr th:only-of-type {\n",
       "        vertical-align: middle;\n",
       "    }\n",
       "\n",
       "    .dataframe tbody tr th {\n",
       "        vertical-align: top;\n",
       "    }\n",
       "\n",
       "    .dataframe thead th {\n",
       "        text-align: right;\n",
       "    }\n",
       "</style>\n",
       "<table border=\"1\" class=\"dataframe\">\n",
       "  <thead>\n",
       "    <tr style=\"text-align: right;\">\n",
       "      <th></th>\n",
       "      <th>Rank</th>\n",
       "      <th>Name</th>\n",
       "      <th>basename</th>\n",
       "      <th>Genre</th>\n",
       "      <th>ESRB_Rating</th>\n",
       "      <th>Platform</th>\n",
       "      <th>Publisher</th>\n",
       "      <th>Developer</th>\n",
       "      <th>VGChartz_Score</th>\n",
       "      <th>Critic_Score</th>\n",
       "      <th>...</th>\n",
       "      <th>NA_Sales</th>\n",
       "      <th>PAL_Sales</th>\n",
       "      <th>JP_Sales</th>\n",
       "      <th>Other_Sales</th>\n",
       "      <th>Year</th>\n",
       "      <th>Last_Update</th>\n",
       "      <th>url</th>\n",
       "      <th>status</th>\n",
       "      <th>Vgchartzscore</th>\n",
       "      <th>img_url</th>\n",
       "    </tr>\n",
       "  </thead>\n",
       "  <tbody>\n",
       "    <tr>\n",
       "      <th>0</th>\n",
       "      <td>1</td>\n",
       "      <td>Wii Sports</td>\n",
       "      <td>wii-sports</td>\n",
       "      <td>Sports</td>\n",
       "      <td>E</td>\n",
       "      <td>Wii</td>\n",
       "      <td>Nintendo</td>\n",
       "      <td>Nintendo EAD</td>\n",
       "      <td>NaN</td>\n",
       "      <td>7.7</td>\n",
       "      <td>...</td>\n",
       "      <td>NaN</td>\n",
       "      <td>NaN</td>\n",
       "      <td>NaN</td>\n",
       "      <td>NaN</td>\n",
       "      <td>2006.0</td>\n",
       "      <td>NaN</td>\n",
       "      <td>http://www.vgchartz.com/game/2667/wii-sports/?...</td>\n",
       "      <td>1</td>\n",
       "      <td>NaN</td>\n",
       "      <td>/games/boxart/full_2258645AmericaFrontccc.jpg</td>\n",
       "    </tr>\n",
       "    <tr>\n",
       "      <th>1</th>\n",
       "      <td>2</td>\n",
       "      <td>Super Mario Bros.</td>\n",
       "      <td>super-mario-bros</td>\n",
       "      <td>Platform</td>\n",
       "      <td>NaN</td>\n",
       "      <td>NES</td>\n",
       "      <td>Nintendo</td>\n",
       "      <td>Nintendo EAD</td>\n",
       "      <td>NaN</td>\n",
       "      <td>10.0</td>\n",
       "      <td>...</td>\n",
       "      <td>NaN</td>\n",
       "      <td>NaN</td>\n",
       "      <td>NaN</td>\n",
       "      <td>NaN</td>\n",
       "      <td>1985.0</td>\n",
       "      <td>NaN</td>\n",
       "      <td>http://www.vgchartz.com/game/6455/super-mario-...</td>\n",
       "      <td>1</td>\n",
       "      <td>NaN</td>\n",
       "      <td>/games/boxart/8972270ccc.jpg</td>\n",
       "    </tr>\n",
       "    <tr>\n",
       "      <th>2</th>\n",
       "      <td>3</td>\n",
       "      <td>Mario Kart Wii</td>\n",
       "      <td>mario-kart-wii</td>\n",
       "      <td>Racing</td>\n",
       "      <td>E</td>\n",
       "      <td>Wii</td>\n",
       "      <td>Nintendo</td>\n",
       "      <td>Nintendo EAD</td>\n",
       "      <td>NaN</td>\n",
       "      <td>8.2</td>\n",
       "      <td>...</td>\n",
       "      <td>NaN</td>\n",
       "      <td>NaN</td>\n",
       "      <td>NaN</td>\n",
       "      <td>NaN</td>\n",
       "      <td>2008.0</td>\n",
       "      <td>11th Apr 18</td>\n",
       "      <td>http://www.vgchartz.com/game/6968/mario-kart-w...</td>\n",
       "      <td>1</td>\n",
       "      <td>8.7</td>\n",
       "      <td>/games/boxart/full_8932480AmericaFrontccc.jpg</td>\n",
       "    </tr>\n",
       "    <tr>\n",
       "      <th>3</th>\n",
       "      <td>4</td>\n",
       "      <td>PlayerUnknown's Battlegrounds</td>\n",
       "      <td>playerunknowns-battlegrounds</td>\n",
       "      <td>Shooter</td>\n",
       "      <td>NaN</td>\n",
       "      <td>PC</td>\n",
       "      <td>PUBG Corporation</td>\n",
       "      <td>PUBG Corporation</td>\n",
       "      <td>NaN</td>\n",
       "      <td>NaN</td>\n",
       "      <td>...</td>\n",
       "      <td>NaN</td>\n",
       "      <td>NaN</td>\n",
       "      <td>NaN</td>\n",
       "      <td>NaN</td>\n",
       "      <td>2017.0</td>\n",
       "      <td>13th Nov 18</td>\n",
       "      <td>http://www.vgchartz.com/game/215988/playerunkn...</td>\n",
       "      <td>1</td>\n",
       "      <td>NaN</td>\n",
       "      <td>/games/boxart/full_8052843AmericaFrontccc.jpg</td>\n",
       "    </tr>\n",
       "    <tr>\n",
       "      <th>4</th>\n",
       "      <td>5</td>\n",
       "      <td>Wii Sports Resort</td>\n",
       "      <td>wii-sports-resort</td>\n",
       "      <td>Sports</td>\n",
       "      <td>E</td>\n",
       "      <td>Wii</td>\n",
       "      <td>Nintendo</td>\n",
       "      <td>Nintendo EAD</td>\n",
       "      <td>NaN</td>\n",
       "      <td>8.0</td>\n",
       "      <td>...</td>\n",
       "      <td>NaN</td>\n",
       "      <td>NaN</td>\n",
       "      <td>NaN</td>\n",
       "      <td>NaN</td>\n",
       "      <td>2009.0</td>\n",
       "      <td>NaN</td>\n",
       "      <td>http://www.vgchartz.com/game/24656/wii-sports-...</td>\n",
       "      <td>1</td>\n",
       "      <td>8.8</td>\n",
       "      <td>/games/boxart/full_7295041AmericaFrontccc.jpg</td>\n",
       "    </tr>\n",
       "  </tbody>\n",
       "</table>\n",
       "<p>5 rows × 23 columns</p>\n",
       "</div>"
      ],
      "text/plain": [
       "   Rank                           Name                      basename  \\\n",
       "0     1                     Wii Sports                    wii-sports   \n",
       "1     2              Super Mario Bros.              super-mario-bros   \n",
       "2     3                 Mario Kart Wii                mario-kart-wii   \n",
       "3     4  PlayerUnknown's Battlegrounds  playerunknowns-battlegrounds   \n",
       "4     5              Wii Sports Resort             wii-sports-resort   \n",
       "\n",
       "      Genre ESRB_Rating Platform         Publisher         Developer  \\\n",
       "0    Sports           E      Wii          Nintendo      Nintendo EAD   \n",
       "1  Platform         NaN      NES          Nintendo      Nintendo EAD   \n",
       "2    Racing           E      Wii          Nintendo      Nintendo EAD   \n",
       "3   Shooter         NaN       PC  PUBG Corporation  PUBG Corporation   \n",
       "4    Sports           E      Wii          Nintendo      Nintendo EAD   \n",
       "\n",
       "   VGChartz_Score  Critic_Score  ...  NA_Sales  PAL_Sales  JP_Sales  \\\n",
       "0             NaN           7.7  ...       NaN        NaN       NaN   \n",
       "1             NaN          10.0  ...       NaN        NaN       NaN   \n",
       "2             NaN           8.2  ...       NaN        NaN       NaN   \n",
       "3             NaN           NaN  ...       NaN        NaN       NaN   \n",
       "4             NaN           8.0  ...       NaN        NaN       NaN   \n",
       "\n",
       "   Other_Sales    Year  Last_Update  \\\n",
       "0          NaN  2006.0          NaN   \n",
       "1          NaN  1985.0          NaN   \n",
       "2          NaN  2008.0  11th Apr 18   \n",
       "3          NaN  2017.0  13th Nov 18   \n",
       "4          NaN  2009.0          NaN   \n",
       "\n",
       "                                                 url  status Vgchartzscore  \\\n",
       "0  http://www.vgchartz.com/game/2667/wii-sports/?...       1           NaN   \n",
       "1  http://www.vgchartz.com/game/6455/super-mario-...       1           NaN   \n",
       "2  http://www.vgchartz.com/game/6968/mario-kart-w...       1           8.7   \n",
       "3  http://www.vgchartz.com/game/215988/playerunkn...       1           NaN   \n",
       "4  http://www.vgchartz.com/game/24656/wii-sports-...       1           8.8   \n",
       "\n",
       "                                         img_url  \n",
       "0  /games/boxart/full_2258645AmericaFrontccc.jpg  \n",
       "1                   /games/boxart/8972270ccc.jpg  \n",
       "2  /games/boxart/full_8932480AmericaFrontccc.jpg  \n",
       "3  /games/boxart/full_8052843AmericaFrontccc.jpg  \n",
       "4  /games/boxart/full_7295041AmericaFrontccc.jpg  \n",
       "\n",
       "[5 rows x 23 columns]"
      ]
     },
     "execution_count": 8,
     "metadata": {},
     "output_type": "execute_result"
    }
   ],
   "source": [
    "vgSales = pd.read_csv(\"../Assignment 4/vgsales.csv\")\n",
    "vgSales.head()"
   ]
  },
  {
   "cell_type": "code",
   "execution_count": 9,
   "metadata": {},
   "outputs": [
    {
     "data": {
      "text/html": [
       "<div>\n",
       "<style scoped>\n",
       "    .dataframe tbody tr th:only-of-type {\n",
       "        vertical-align: middle;\n",
       "    }\n",
       "\n",
       "    .dataframe tbody tr th {\n",
       "        vertical-align: top;\n",
       "    }\n",
       "\n",
       "    .dataframe thead th {\n",
       "        text-align: right;\n",
       "    }\n",
       "</style>\n",
       "<table border=\"1\" class=\"dataframe\">\n",
       "  <thead>\n",
       "    <tr style=\"text-align: right;\">\n",
       "      <th></th>\n",
       "      <th>Rank</th>\n",
       "      <th>VGChartz_Score</th>\n",
       "      <th>Critic_Score</th>\n",
       "      <th>User_Score</th>\n",
       "      <th>Total_Shipped</th>\n",
       "      <th>Global_Sales</th>\n",
       "      <th>NA_Sales</th>\n",
       "      <th>PAL_Sales</th>\n",
       "      <th>JP_Sales</th>\n",
       "      <th>Other_Sales</th>\n",
       "      <th>Year</th>\n",
       "      <th>status</th>\n",
       "      <th>Vgchartzscore</th>\n",
       "    </tr>\n",
       "    <tr>\n",
       "      <th>Genre</th>\n",
       "      <th></th>\n",
       "      <th></th>\n",
       "      <th></th>\n",
       "      <th></th>\n",
       "      <th></th>\n",
       "      <th></th>\n",
       "      <th></th>\n",
       "      <th></th>\n",
       "      <th></th>\n",
       "      <th></th>\n",
       "      <th></th>\n",
       "      <th></th>\n",
       "      <th></th>\n",
       "    </tr>\n",
       "  </thead>\n",
       "  <tbody>\n",
       "    <tr>\n",
       "      <th>Action</th>\n",
       "      <td>27082.658276</td>\n",
       "      <td>NaN</td>\n",
       "      <td>6.840234</td>\n",
       "      <td>8.076923</td>\n",
       "      <td>1.220675</td>\n",
       "      <td>0.414288</td>\n",
       "      <td>0.288757</td>\n",
       "      <td>0.167284</td>\n",
       "      <td>0.090731</td>\n",
       "      <td>0.051398</td>\n",
       "      <td>2005.668453</td>\n",
       "      <td>1.0</td>\n",
       "      <td>7.080000</td>\n",
       "    </tr>\n",
       "    <tr>\n",
       "      <th>Action-Adventure</th>\n",
       "      <td>26818.858785</td>\n",
       "      <td>NaN</td>\n",
       "      <td>7.693939</td>\n",
       "      <td>8.100000</td>\n",
       "      <td>0.992099</td>\n",
       "      <td>0.604864</td>\n",
       "      <td>0.314074</td>\n",
       "      <td>0.286743</td>\n",
       "      <td>0.062222</td>\n",
       "      <td>0.080041</td>\n",
       "      <td>2014.290844</td>\n",
       "      <td>1.0</td>\n",
       "      <td>6.616667</td>\n",
       "    </tr>\n",
       "    <tr>\n",
       "      <th>Adventure</th>\n",
       "      <td>29023.237483</td>\n",
       "      <td>NaN</td>\n",
       "      <td>7.329188</td>\n",
       "      <td>8.415625</td>\n",
       "      <td>1.101034</td>\n",
       "      <td>0.181431</td>\n",
       "      <td>0.198256</td>\n",
       "      <td>0.106371</td>\n",
       "      <td>0.049815</td>\n",
       "      <td>0.029120</td>\n",
       "      <td>2006.243217</td>\n",
       "      <td>1.0</td>\n",
       "      <td>7.432258</td>\n",
       "    </tr>\n",
       "    <tr>\n",
       "      <th>Board Game</th>\n",
       "      <td>49039.062500</td>\n",
       "      <td>NaN</td>\n",
       "      <td>5.300000</td>\n",
       "      <td>NaN</td>\n",
       "      <td>NaN</td>\n",
       "      <td>0.155000</td>\n",
       "      <td>0.060000</td>\n",
       "      <td>0.220000</td>\n",
       "      <td>0.010000</td>\n",
       "      <td>0.020000</td>\n",
       "      <td>2018.000000</td>\n",
       "      <td>1.0</td>\n",
       "      <td>NaN</td>\n",
       "    </tr>\n",
       "    <tr>\n",
       "      <th>Education</th>\n",
       "      <td>33624.416667</td>\n",
       "      <td>NaN</td>\n",
       "      <td>7.500000</td>\n",
       "      <td>NaN</td>\n",
       "      <td>0.165000</td>\n",
       "      <td>0.090000</td>\n",
       "      <td>0.080000</td>\n",
       "      <td>NaN</td>\n",
       "      <td>NaN</td>\n",
       "      <td>0.010000</td>\n",
       "      <td>2003.666667</td>\n",
       "      <td>1.0</td>\n",
       "      <td>NaN</td>\n",
       "    </tr>\n",
       "    <tr>\n",
       "      <th>Fighting</th>\n",
       "      <td>26102.436930</td>\n",
       "      <td>NaN</td>\n",
       "      <td>7.388415</td>\n",
       "      <td>8.654545</td>\n",
       "      <td>2.436885</td>\n",
       "      <td>0.404422</td>\n",
       "      <td>0.302923</td>\n",
       "      <td>0.143328</td>\n",
       "      <td>0.128943</td>\n",
       "      <td>0.043983</td>\n",
       "      <td>2004.401851</td>\n",
       "      <td>1.0</td>\n",
       "      <td>7.655556</td>\n",
       "    </tr>\n",
       "    <tr>\n",
       "      <th>MMO</th>\n",
       "      <td>23136.878378</td>\n",
       "      <td>NaN</td>\n",
       "      <td>7.810000</td>\n",
       "      <td>8.633333</td>\n",
       "      <td>2.308333</td>\n",
       "      <td>0.370625</td>\n",
       "      <td>0.244000</td>\n",
       "      <td>0.171000</td>\n",
       "      <td>0.147500</td>\n",
       "      <td>0.051739</td>\n",
       "      <td>2014.388889</td>\n",
       "      <td>1.0</td>\n",
       "      <td>NaN</td>\n",
       "    </tr>\n",
       "    <tr>\n",
       "      <th>Misc</th>\n",
       "      <td>30664.280604</td>\n",
       "      <td>NaN</td>\n",
       "      <td>6.885799</td>\n",
       "      <td>7.414286</td>\n",
       "      <td>2.064765</td>\n",
       "      <td>0.263185</td>\n",
       "      <td>0.248691</td>\n",
       "      <td>0.123384</td>\n",
       "      <td>0.081346</td>\n",
       "      <td>0.038713</td>\n",
       "      <td>2007.939849</td>\n",
       "      <td>1.0</td>\n",
       "      <td>7.290000</td>\n",
       "    </tr>\n",
       "    <tr>\n",
       "      <th>Music</th>\n",
       "      <td>18322.897436</td>\n",
       "      <td>NaN</td>\n",
       "      <td>7.912000</td>\n",
       "      <td>9.300000</td>\n",
       "      <td>1.170000</td>\n",
       "      <td>0.369301</td>\n",
       "      <td>0.276383</td>\n",
       "      <td>0.170337</td>\n",
       "      <td>0.134800</td>\n",
       "      <td>0.044107</td>\n",
       "      <td>2014.746114</td>\n",
       "      <td>1.0</td>\n",
       "      <td>7.950000</td>\n",
       "    </tr>\n",
       "    <tr>\n",
       "      <th>Party</th>\n",
       "      <td>30280.680000</td>\n",
       "      <td>NaN</td>\n",
       "      <td>6.053333</td>\n",
       "      <td>NaN</td>\n",
       "      <td>3.913333</td>\n",
       "      <td>0.207308</td>\n",
       "      <td>0.106818</td>\n",
       "      <td>0.107333</td>\n",
       "      <td>0.190000</td>\n",
       "      <td>0.019583</td>\n",
       "      <td>2013.594203</td>\n",
       "      <td>1.0</td>\n",
       "      <td>5.733333</td>\n",
       "    </tr>\n",
       "    <tr>\n",
       "      <th>Platform</th>\n",
       "      <td>28821.389550</td>\n",
       "      <td>NaN</td>\n",
       "      <td>7.308333</td>\n",
       "      <td>8.435897</td>\n",
       "      <td>2.891608</td>\n",
       "      <td>0.437188</td>\n",
       "      <td>0.275030</td>\n",
       "      <td>0.147119</td>\n",
       "      <td>0.161485</td>\n",
       "      <td>0.039880</td>\n",
       "      <td>2002.648329</td>\n",
       "      <td>1.0</td>\n",
       "      <td>7.607463</td>\n",
       "    </tr>\n",
       "    <tr>\n",
       "      <th>Puzzle</th>\n",
       "      <td>31775.619545</td>\n",
       "      <td>NaN</td>\n",
       "      <td>7.200000</td>\n",
       "      <td>8.037500</td>\n",
       "      <td>1.186344</td>\n",
       "      <td>0.184854</td>\n",
       "      <td>0.142063</td>\n",
       "      <td>0.053832</td>\n",
       "      <td>0.175621</td>\n",
       "      <td>0.012433</td>\n",
       "      <td>2005.651783</td>\n",
       "      <td>1.0</td>\n",
       "      <td>7.450000</td>\n",
       "    </tr>\n",
       "    <tr>\n",
       "      <th>Racing</th>\n",
       "      <td>24485.932673</td>\n",
       "      <td>NaN</td>\n",
       "      <td>7.091145</td>\n",
       "      <td>8.500000</td>\n",
       "      <td>4.176290</td>\n",
       "      <td>0.380090</td>\n",
       "      <td>0.226499</td>\n",
       "      <td>0.153747</td>\n",
       "      <td>0.083865</td>\n",
       "      <td>0.041956</td>\n",
       "      <td>2004.497999</td>\n",
       "      <td>1.0</td>\n",
       "      <td>7.882222</td>\n",
       "    </tr>\n",
       "    <tr>\n",
       "      <th>Role-Playing</th>\n",
       "      <td>26781.715667</td>\n",
       "      <td>NaN</td>\n",
       "      <td>7.461610</td>\n",
       "      <td>8.532203</td>\n",
       "      <td>2.202027</td>\n",
       "      <td>0.314218</td>\n",
       "      <td>0.225489</td>\n",
       "      <td>0.125887</td>\n",
       "      <td>0.151142</td>\n",
       "      <td>0.036238</td>\n",
       "      <td>2005.912634</td>\n",
       "      <td>1.0</td>\n",
       "      <td>7.657377</td>\n",
       "    </tr>\n",
       "    <tr>\n",
       "      <th>Sandbox</th>\n",
       "      <td>22364.000000</td>\n",
       "      <td>NaN</td>\n",
       "      <td>9.200000</td>\n",
       "      <td>NaN</td>\n",
       "      <td>0.284000</td>\n",
       "      <td>1.890000</td>\n",
       "      <td>0.690000</td>\n",
       "      <td>0.560000</td>\n",
       "      <td>0.520000</td>\n",
       "      <td>0.120000</td>\n",
       "      <td>2014.222222</td>\n",
       "      <td>1.0</td>\n",
       "      <td>NaN</td>\n",
       "    </tr>\n",
       "    <tr>\n",
       "      <th>Shooter</th>\n",
       "      <td>27784.223724</td>\n",
       "      <td>NaN</td>\n",
       "      <td>7.286833</td>\n",
       "      <td>8.143636</td>\n",
       "      <td>2.007708</td>\n",
       "      <td>0.693760</td>\n",
       "      <td>0.454234</td>\n",
       "      <td>0.257192</td>\n",
       "      <td>0.082661</td>\n",
       "      <td>0.079979</td>\n",
       "      <td>2004.399644</td>\n",
       "      <td>1.0</td>\n",
       "      <td>7.614433</td>\n",
       "    </tr>\n",
       "    <tr>\n",
       "      <th>Simulation</th>\n",
       "      <td>25717.486664</td>\n",
       "      <td>NaN</td>\n",
       "      <td>6.926201</td>\n",
       "      <td>8.050000</td>\n",
       "      <td>1.262941</td>\n",
       "      <td>0.283469</td>\n",
       "      <td>0.226586</td>\n",
       "      <td>0.127932</td>\n",
       "      <td>0.127455</td>\n",
       "      <td>0.027695</td>\n",
       "      <td>2005.957297</td>\n",
       "      <td>1.0</td>\n",
       "      <td>6.860000</td>\n",
       "    </tr>\n",
       "    <tr>\n",
       "      <th>Sports</th>\n",
       "      <td>23421.281846</td>\n",
       "      <td>NaN</td>\n",
       "      <td>7.291424</td>\n",
       "      <td>7.887500</td>\n",
       "      <td>4.368519</td>\n",
       "      <td>0.469137</td>\n",
       "      <td>0.316358</td>\n",
       "      <td>0.186379</td>\n",
       "      <td>0.169925</td>\n",
       "      <td>0.057109</td>\n",
       "      <td>2003.431203</td>\n",
       "      <td>1.0</td>\n",
       "      <td>7.242500</td>\n",
       "    </tr>\n",
       "    <tr>\n",
       "      <th>Strategy</th>\n",
       "      <td>30438.502756</td>\n",
       "      <td>NaN</td>\n",
       "      <td>7.429268</td>\n",
       "      <td>7.846154</td>\n",
       "      <td>0.807986</td>\n",
       "      <td>0.167698</td>\n",
       "      <td>0.147500</td>\n",
       "      <td>0.061182</td>\n",
       "      <td>0.149967</td>\n",
       "      <td>0.013030</td>\n",
       "      <td>2004.599813</td>\n",
       "      <td>1.0</td>\n",
       "      <td>7.650000</td>\n",
       "    </tr>\n",
       "    <tr>\n",
       "      <th>Visual Novel</th>\n",
       "      <td>34544.384615</td>\n",
       "      <td>NaN</td>\n",
       "      <td>8.500000</td>\n",
       "      <td>NaN</td>\n",
       "      <td>0.253571</td>\n",
       "      <td>0.030439</td>\n",
       "      <td>0.036154</td>\n",
       "      <td>0.010000</td>\n",
       "      <td>0.025505</td>\n",
       "      <td>0.008000</td>\n",
       "      <td>2015.914634</td>\n",
       "      <td>1.0</td>\n",
       "      <td>7.000000</td>\n",
       "    </tr>\n",
       "  </tbody>\n",
       "</table>\n",
       "</div>"
      ],
      "text/plain": [
       "                          Rank  VGChartz_Score  Critic_Score  User_Score  \\\n",
       "Genre                                                                      \n",
       "Action            27082.658276             NaN      6.840234    8.076923   \n",
       "Action-Adventure  26818.858785             NaN      7.693939    8.100000   \n",
       "Adventure         29023.237483             NaN      7.329188    8.415625   \n",
       "Board Game        49039.062500             NaN      5.300000         NaN   \n",
       "Education         33624.416667             NaN      7.500000         NaN   \n",
       "Fighting          26102.436930             NaN      7.388415    8.654545   \n",
       "MMO               23136.878378             NaN      7.810000    8.633333   \n",
       "Misc              30664.280604             NaN      6.885799    7.414286   \n",
       "Music             18322.897436             NaN      7.912000    9.300000   \n",
       "Party             30280.680000             NaN      6.053333         NaN   \n",
       "Platform          28821.389550             NaN      7.308333    8.435897   \n",
       "Puzzle            31775.619545             NaN      7.200000    8.037500   \n",
       "Racing            24485.932673             NaN      7.091145    8.500000   \n",
       "Role-Playing      26781.715667             NaN      7.461610    8.532203   \n",
       "Sandbox           22364.000000             NaN      9.200000         NaN   \n",
       "Shooter           27784.223724             NaN      7.286833    8.143636   \n",
       "Simulation        25717.486664             NaN      6.926201    8.050000   \n",
       "Sports            23421.281846             NaN      7.291424    7.887500   \n",
       "Strategy          30438.502756             NaN      7.429268    7.846154   \n",
       "Visual Novel      34544.384615             NaN      8.500000         NaN   \n",
       "\n",
       "                  Total_Shipped  Global_Sales  NA_Sales  PAL_Sales  JP_Sales  \\\n",
       "Genre                                                                          \n",
       "Action                 1.220675      0.414288  0.288757   0.167284  0.090731   \n",
       "Action-Adventure       0.992099      0.604864  0.314074   0.286743  0.062222   \n",
       "Adventure              1.101034      0.181431  0.198256   0.106371  0.049815   \n",
       "Board Game                  NaN      0.155000  0.060000   0.220000  0.010000   \n",
       "Education              0.165000      0.090000  0.080000        NaN       NaN   \n",
       "Fighting               2.436885      0.404422  0.302923   0.143328  0.128943   \n",
       "MMO                    2.308333      0.370625  0.244000   0.171000  0.147500   \n",
       "Misc                   2.064765      0.263185  0.248691   0.123384  0.081346   \n",
       "Music                  1.170000      0.369301  0.276383   0.170337  0.134800   \n",
       "Party                  3.913333      0.207308  0.106818   0.107333  0.190000   \n",
       "Platform               2.891608      0.437188  0.275030   0.147119  0.161485   \n",
       "Puzzle                 1.186344      0.184854  0.142063   0.053832  0.175621   \n",
       "Racing                 4.176290      0.380090  0.226499   0.153747  0.083865   \n",
       "Role-Playing           2.202027      0.314218  0.225489   0.125887  0.151142   \n",
       "Sandbox                0.284000      1.890000  0.690000   0.560000  0.520000   \n",
       "Shooter                2.007708      0.693760  0.454234   0.257192  0.082661   \n",
       "Simulation             1.262941      0.283469  0.226586   0.127932  0.127455   \n",
       "Sports                 4.368519      0.469137  0.316358   0.186379  0.169925   \n",
       "Strategy               0.807986      0.167698  0.147500   0.061182  0.149967   \n",
       "Visual Novel           0.253571      0.030439  0.036154   0.010000  0.025505   \n",
       "\n",
       "                  Other_Sales         Year  status  Vgchartzscore  \n",
       "Genre                                                              \n",
       "Action               0.051398  2005.668453     1.0       7.080000  \n",
       "Action-Adventure     0.080041  2014.290844     1.0       6.616667  \n",
       "Adventure            0.029120  2006.243217     1.0       7.432258  \n",
       "Board Game           0.020000  2018.000000     1.0            NaN  \n",
       "Education            0.010000  2003.666667     1.0            NaN  \n",
       "Fighting             0.043983  2004.401851     1.0       7.655556  \n",
       "MMO                  0.051739  2014.388889     1.0            NaN  \n",
       "Misc                 0.038713  2007.939849     1.0       7.290000  \n",
       "Music                0.044107  2014.746114     1.0       7.950000  \n",
       "Party                0.019583  2013.594203     1.0       5.733333  \n",
       "Platform             0.039880  2002.648329     1.0       7.607463  \n",
       "Puzzle               0.012433  2005.651783     1.0       7.450000  \n",
       "Racing               0.041956  2004.497999     1.0       7.882222  \n",
       "Role-Playing         0.036238  2005.912634     1.0       7.657377  \n",
       "Sandbox              0.120000  2014.222222     1.0            NaN  \n",
       "Shooter              0.079979  2004.399644     1.0       7.614433  \n",
       "Simulation           0.027695  2005.957297     1.0       6.860000  \n",
       "Sports               0.057109  2003.431203     1.0       7.242500  \n",
       "Strategy             0.013030  2004.599813     1.0       7.650000  \n",
       "Visual Novel         0.008000  2015.914634     1.0       7.000000  "
      ]
     },
     "execution_count": 9,
     "metadata": {},
     "output_type": "execute_result"
    }
   ],
   "source": [
    "vgSales.groupby(\"Genre\").mean()"
   ]
  },
  {
   "cell_type": "markdown",
   "metadata": {},
   "source": [
    "Critic_Score has a decent amount of variation when it comes to sorting on genre. I also find it interesting that party and racing games have alot of shipped games average yet Action and Adventure are really low. This is probably because the amount of action games is way higher compared to racing and party games. Thus the average will be way lower."
   ]
  },
  {
   "cell_type": "code",
   "execution_count": 10,
   "metadata": {},
   "outputs": [
    {
     "data": {
      "text/plain": [
       "<AxesSubplot:xlabel='Genre', ylabel='Critic_Score'>"
      ]
     },
     "execution_count": 10,
     "metadata": {},
     "output_type": "execute_result"
    },
    {
     "data": {
      "image/png": "[encoded data removed]",
      "text/plain": [
       "<Figure size 432x288 with 1 Axes>"
      ]
     },
     "metadata": {
      "needs_background": "light"
     },
     "output_type": "display_data"
    }
   ],
   "source": [
    "graph = sns.barplot(y=\"Critic_Score\", x=\"Genre\", data=vgSales)\n",
    "graph.set_xticklabels(graph.get_xticklabels(), rotation=90)\n",
    "graph"
   ]
  },
  {
   "cell_type": "code",
   "execution_count": 11,
   "metadata": {},
   "outputs": [
    {
     "data": {
      "text/plain": [
       "<AxesSubplot:xlabel='Genre', ylabel='Total_Shipped'>"
      ]
     },
     "execution_count": 11,
     "metadata": {},
     "output_type": "execute_result"
    },
    {
     "data": {
      "image/png": "[encoded data removed]",
      "text/plain": [
       "<Figure size 432x288 with 1 Axes>"
      ]
     },
     "metadata": {
      "needs_background": "light"
     },
     "output_type": "display_data"
    }
   ],
   "source": [
    "graph = sns.barplot(y=\"Total_Shipped\", x=\"Genre\", data=vgSales)\n",
    "graph.set_xticklabels(graph.get_xticklabels(), rotation=90)\n",
    "graph"
   ]
  },
  {
   "cell_type": "code",
   "execution_count": 12,
   "metadata": {},
   "outputs": [
    {
     "data": {
      "text/plain": [
       "<AxesSubplot:xlabel='Year', ylabel='Total_Shipped'>"
      ]
     },
     "execution_count": 12,
     "metadata": {},
     "output_type": "execute_result"
    },
    {
     "data": {
      "image/png": "[encoded data removed]",
      "text/plain": [
       "<Figure size 432x288 with 1 Axes>"
      ]
     },
     "metadata": {
      "needs_background": "light"
     },
     "output_type": "display_data"
    }
   ],
   "source": [
    "graph = sns.barplot(y=\"Total_Shipped\", x=\"Year\", data=vgSales[(vgSales.Year > 1981)])\n",
    "graph.set_xticklabels(graph.get_xticklabels(), rotation=90)\n",
    "graph"
   ]
  }
 ],
 "metadata": {
  "kernelspec": {
   "display_name": "Python 3",
   "language": "python",
   "name": "python3"
  },
  "language_info": {
   "codemirror_mode": {
    "name": "ipython",
    "version": 3
   },
   "file_extension": ".py",
   "mimetype": "text/x-python",
   "name": "python",
   "nbconvert_exporter": "python",
   "pygments_lexer": "ipython3",
   "version": "3.8.5"
  }
 },
 "nbformat": 4,
 "nbformat_minor": 4
}
